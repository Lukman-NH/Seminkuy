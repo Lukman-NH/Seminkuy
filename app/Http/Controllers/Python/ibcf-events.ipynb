{
 "cells": [
  {
   "cell_type": "code",
   "execution_count": 1,
   "metadata": {},
   "outputs": [],
   "source": [
    "# Import library\n",
    "import pandas as pd\n",
    "import numpy as np\n",
    "import time\n",
    "import os\n",
    "from math import sqrt\n",
    "from numpy import random\n",
    "from sklearn.metrics import mean_absolute_error, mean_squared_error"
   ]
  },
  {
   "cell_type": "code",
   "execution_count": 2,
   "metadata": {},
   "outputs": [
    {
     "data": {
      "text/plain": [
       "{'divide': 'warn', 'over': 'warn', 'under': 'ignore', 'invalid': 'warn'}"
      ]
     },
     "execution_count": 2,
     "metadata": {},
     "output_type": "execute_result"
    }
   ],
   "source": [
    "# Clear terminal & ignore \"RuntimeWarning: invalid value encountered in true_divide\"\n",
    "os.system('cls||clear')\n",
    "np.seterr(divide='ignore', invalid='ignore')"
   ]
  },
  {
   "cell_type": "code",
   "execution_count": 3,
   "metadata": {},
   "outputs": [],
   "source": [
    "# Reading data and define columns\n",
    "read_start_time = time.time()\n",
    "df = pd.read_csv(\n",
    "    r'C:\\laragon\\www\\web-seminkuy\\app\\Http\\Controllers\\Python\\rating-test-case.csv', sep=',')\n",
    "read_end_time = time.time()"
   ]
  },
  {
   "cell_type": "code",
   "execution_count": 4,
   "metadata": {},
   "outputs": [
    {
     "data": {
      "text/html": [
       "<div>\n",
       "<style scoped>\n",
       "    .dataframe tbody tr th:only-of-type {\n",
       "        vertical-align: middle;\n",
       "    }\n",
       "\n",
       "    .dataframe tbody tr th {\n",
       "        vertical-align: top;\n",
       "    }\n",
       "\n",
       "    .dataframe thead th {\n",
       "        text-align: right;\n",
       "    }\n",
       "</style>\n",
       "<table border=\"1\" class=\"dataframe\">\n",
       "  <thead>\n",
       "    <tr style=\"text-align: right;\">\n",
       "      <th></th>\n",
       "      <th>users_id</th>\n",
       "      <th>events_id</th>\n",
       "      <th>rating</th>\n",
       "    </tr>\n",
       "  </thead>\n",
       "  <tbody>\n",
       "    <tr>\n",
       "      <th>0</th>\n",
       "      <td>2</td>\n",
       "      <td>1</td>\n",
       "      <td>4</td>\n",
       "    </tr>\n",
       "    <tr>\n",
       "      <th>1</th>\n",
       "      <td>2</td>\n",
       "      <td>3</td>\n",
       "      <td>5</td>\n",
       "    </tr>\n",
       "    <tr>\n",
       "      <th>2</th>\n",
       "      <td>2</td>\n",
       "      <td>6</td>\n",
       "      <td>4</td>\n",
       "    </tr>\n",
       "    <tr>\n",
       "      <th>3</th>\n",
       "      <td>2</td>\n",
       "      <td>8</td>\n",
       "      <td>2</td>\n",
       "    </tr>\n",
       "    <tr>\n",
       "      <th>4</th>\n",
       "      <td>3</td>\n",
       "      <td>1</td>\n",
       "      <td>5</td>\n",
       "    </tr>\n",
       "    <tr>\n",
       "      <th>5</th>\n",
       "      <td>3</td>\n",
       "      <td>2</td>\n",
       "      <td>5</td>\n",
       "    </tr>\n",
       "    <tr>\n",
       "      <th>6</th>\n",
       "      <td>3</td>\n",
       "      <td>3</td>\n",
       "      <td>4</td>\n",
       "    </tr>\n",
       "    <tr>\n",
       "      <th>7</th>\n",
       "      <td>3</td>\n",
       "      <td>10</td>\n",
       "      <td>5</td>\n",
       "    </tr>\n",
       "    <tr>\n",
       "      <th>8</th>\n",
       "      <td>4</td>\n",
       "      <td>1</td>\n",
       "      <td>3</td>\n",
       "    </tr>\n",
       "    <tr>\n",
       "      <th>9</th>\n",
       "      <td>4</td>\n",
       "      <td>2</td>\n",
       "      <td>4</td>\n",
       "    </tr>\n",
       "    <tr>\n",
       "      <th>10</th>\n",
       "      <td>4</td>\n",
       "      <td>4</td>\n",
       "      <td>3</td>\n",
       "    </tr>\n",
       "    <tr>\n",
       "      <th>11</th>\n",
       "      <td>4</td>\n",
       "      <td>6</td>\n",
       "      <td>2</td>\n",
       "    </tr>\n",
       "    <tr>\n",
       "      <th>12</th>\n",
       "      <td>4</td>\n",
       "      <td>7</td>\n",
       "      <td>3</td>\n",
       "    </tr>\n",
       "    <tr>\n",
       "      <th>13</th>\n",
       "      <td>5</td>\n",
       "      <td>3</td>\n",
       "      <td>5</td>\n",
       "    </tr>\n",
       "    <tr>\n",
       "      <th>14</th>\n",
       "      <td>5</td>\n",
       "      <td>5</td>\n",
       "      <td>4</td>\n",
       "    </tr>\n",
       "    <tr>\n",
       "      <th>15</th>\n",
       "      <td>5</td>\n",
       "      <td>7</td>\n",
       "      <td>3</td>\n",
       "    </tr>\n",
       "    <tr>\n",
       "      <th>16</th>\n",
       "      <td>5</td>\n",
       "      <td>6</td>\n",
       "      <td>4</td>\n",
       "    </tr>\n",
       "    <tr>\n",
       "      <th>17</th>\n",
       "      <td>6</td>\n",
       "      <td>2</td>\n",
       "      <td>3</td>\n",
       "    </tr>\n",
       "    <tr>\n",
       "      <th>18</th>\n",
       "      <td>6</td>\n",
       "      <td>5</td>\n",
       "      <td>2</td>\n",
       "    </tr>\n",
       "    <tr>\n",
       "      <th>19</th>\n",
       "      <td>6</td>\n",
       "      <td>6</td>\n",
       "      <td>3</td>\n",
       "    </tr>\n",
       "    <tr>\n",
       "      <th>20</th>\n",
       "      <td>6</td>\n",
       "      <td>9</td>\n",
       "      <td>5</td>\n",
       "    </tr>\n",
       "    <tr>\n",
       "      <th>21</th>\n",
       "      <td>6</td>\n",
       "      <td>10</td>\n",
       "      <td>2</td>\n",
       "    </tr>\n",
       "  </tbody>\n",
       "</table>\n",
       "</div>"
      ],
      "text/plain": [
       "    users_id  events_id  rating\n",
       "0          2          1       4\n",
       "1          2          3       5\n",
       "2          2          6       4\n",
       "3          2          8       2\n",
       "4          3          1       5\n",
       "5          3          2       5\n",
       "6          3          3       4\n",
       "7          3         10       5\n",
       "8          4          1       3\n",
       "9          4          2       4\n",
       "10         4          4       3\n",
       "11         4          6       2\n",
       "12         4          7       3\n",
       "13         5          3       5\n",
       "14         5          5       4\n",
       "15         5          7       3\n",
       "16         5          6       4\n",
       "17         6          2       3\n",
       "18         6          5       2\n",
       "19         6          6       3\n",
       "20         6          9       5\n",
       "21         6         10       2"
      ]
     },
     "execution_count": 4,
     "metadata": {},
     "output_type": "execute_result"
    }
   ],
   "source": [
    "df"
   ]
  },
  {
   "cell_type": "code",
   "execution_count": 5,
   "metadata": {},
   "outputs": [],
   "source": [
    "# Total users and travel packages\n",
    "n_users = df.users_id.max()\n",
    "n_events = df.events_id.max()"
   ]
  },
  {
   "cell_type": "code",
   "execution_count": 6,
   "metadata": {},
   "outputs": [
    {
     "data": {
      "text/plain": [
       "10"
      ]
     },
     "execution_count": 6,
     "metadata": {},
     "output_type": "execute_result"
    }
   ],
   "source": [
    "n_events"
   ]
  },
  {
   "cell_type": "code",
   "execution_count": 7,
   "metadata": {},
   "outputs": [],
   "source": [
    "# Converting data to matrix form\n",
    "mat_start = time.time()\n",
    "rating = np.zeros((n_users, n_events))\n",
    "for row in df.itertuples():\n",
    "    rating[row[1]-1, row[2]-1] = row[3]\n",
    "mat_end = time.time()"
   ]
  },
  {
   "cell_type": "code",
   "execution_count": 8,
   "metadata": {},
   "outputs": [],
   "source": [
    "# Train_test_splitting\n",
    "trainset = np.copy(rating)\n",
    "testset = np.zeros((n_users, n_events))"
   ]
  },
  {
   "cell_type": "code",
   "execution_count": 9,
   "metadata": {},
   "outputs": [],
   "source": [
    "# Z for iterate over each row\n",
    "train_test = time.time()\n",
    "z          = 0\n",
    "\n",
    "for row in rating:\n",
    "    nz_in  = np.nonzero(row)\n",
    "    per_20 = int(len(nz_in[0]) * 0.2)\n",
    "    rand   = random.choice(nz_in[0], per_20, replace=False)\n",
    "    for i in range(per_20):\n",
    "        testset[z, rand[i]]  = rating[z, rand[i]]\n",
    "        trainset[z, rand[i]] = 0\n",
    "    z = z + 1\n",
    "train_test_end = time.time()"
   ]
  },
  {
   "cell_type": "code",
   "execution_count": 10,
   "metadata": {},
   "outputs": [],
   "source": [
    "# Adjusted cosine similarity calculation\n",
    "def adjusted_cosine_similarity(train_data):\n",
    "    start        = time.time()\n",
    "    u_m          = train_data.sum(axis=1) / (train_data != 0).sum(axis=1)\n",
    "    rating_m_sub = np.where((train_data!=0), train_data-u_m[:, None], train_data)\n",
    "    similarity   = np.zeros((n_events, n_events))\n",
    "\n",
    "    for i in range(n_events):\n",
    "        print(i)\n",
    "        for j in range(i, n_events):\n",
    "            num     = 0\n",
    "            dem1    = 0\n",
    "            dem2    = 0\n",
    "            set_c_u = np.where((train_data[:, i] != 0) * (train_data[:, j]))[0]\n",
    "            for k in set_c_u:\n",
    "                num              = num+rating_m_sub[k][i] * rating_m_sub[k][j]\n",
    "                dem1             = dem1 + rating_m_sub[k][i]**2\n",
    "                dem2             = dem2 + rating_m_sub[k][j]**2\n",
    "                similarity[i, j] = num/sqrt(dem1*dem2 + 10**-12)\n",
    "\n",
    "    end = time.time() - start\n",
    "\n",
    "    print(\"similarity time = \", end)\n",
    "    return similarity"
   ]
  },
  {
   "cell_type": "code",
   "execution_count": 11,
   "metadata": {},
   "outputs": [
    {
     "name": "stdout",
     "output_type": "stream",
     "text": [
      "0\n",
      "1\n",
      "2\n",
      "3\n",
      "4\n",
      "5\n",
      "6\n",
      "7\n",
      "8\n",
      "9\n",
      "similarity time =  0.01598978042602539\n"
     ]
    }
   ],
   "source": [
    "# Copying below diagonal of similarity matrix\n",
    "similarity  = adjusted_cosine_similarity(trainset)\n",
    "upp_tr      = np.triu(similarity, k=1)\n",
    "upp_tr      = upp_tr.T\n",
    "similarity  = similarity + upp_tr\n",
    "similarity  = np.where((similarity < 0), 0, similarity)"
   ]
  },
  {
   "cell_type": "code",
   "execution_count": 13,
   "metadata": {},
   "outputs": [
    {
     "name": "stdout",
     "output_type": "stream",
     "text": [
      "0.0009970664978027344\n",
      "0.001995086669921875\n",
      "0.0029947757720947266\n",
      "0.003993988037109375\n",
      "0.00499272346496582\n",
      "0.005995035171508789\n"
     ]
    },
    {
     "data": {
      "text/plain": [
       "array([[0.        , 0.        , 0.        , 0.        , 0.        ,\n",
       "        0.        , 0.        , 0.        , 0.        , 0.        ],\n",
       "       [4.16331582, 4.        , 4.49421657, 0.        , 0.        ,\n",
       "        4.3859183 , 0.        , 2.        , 0.        , 4.        ],\n",
       "       [4.90240295, 5.        , 4.1951941 , 0.        , 5.        ,\n",
       "        4.23698903, 0.        , 0.        , 0.        , 5.        ],\n",
       "       [3.        , 3.8048059 , 2.23698903, 0.        , 0.        ,\n",
       "        2.1951941 , 0.        , 0.        , 0.        , 3.1951941 ],\n",
       "       [4.5       , 0.        , 4.56152368, 0.        , 4.        ,\n",
       "        4.43847632, 3.        , 0.        , 0.        , 4.        ],\n",
       "       [2.1951941 , 2.8048059 , 0.        , 0.        , 2.        ,\n",
       "        0.        , 0.        , 0.        , 5.        , 2.10815241]])"
      ]
     },
     "execution_count": 13,
     "metadata": {},
     "output_type": "execute_result"
    }
   ],
   "source": [
    "# Prediction\n",
    "mul = trainset.dot(similarity)\n",
    "div = np.zeros((n_users, n_events))\n",
    "stt = time.time()\n",
    "\n",
    "for i in range(n_users):\n",
    "    nzi = np.nonzero(trainset[i])\n",
    "    for j in range(n_events):\n",
    "        sm        = (similarity[j, nzi]).sum()\n",
    "        div[i, j] = sm\n",
    "        \n",
    "    endd = time.time() - stt\n",
    "    print(endd)\n",
    "\n",
    "\n",
    "np.nan_to_num(div, copy=False)\n",
    "prediction = mul/div\n",
    "np.nan_to_num(prediction, copy=False)"
   ]
  },
  {
   "cell_type": "code",
   "execution_count": 15,
   "metadata": {},
   "outputs": [],
   "source": [
    "# save similarity matrix to similarity.csv\n",
    "np.savetxt(r'C:\\laragon\\www\\web-seminkuy\\app\\Http\\Controllers\\Python\\similarity-test-case.csv',similarity, fmt='%.4f', delimiter='|')\n",
    "\n",
    "\n",
    "# save prediction matrix to prediction.csv\n",
    "np.savetxt(r'C:\\laragon\\www\\web-seminkuy\\app\\Http\\Controllers\\Python\\prediction-test-case.csv',prediction, fmt='%.4f', delimiter='|')"
   ]
  },
  {
   "cell_type": "code",
   "execution_count": null,
   "metadata": {},
   "outputs": [],
   "source": []
  }
 ],
 "metadata": {
  "kernelspec": {
   "display_name": "Python 3.10.5 64-bit",
   "language": "python",
   "name": "python3"
  },
  "language_info": {
   "codemirror_mode": {
    "name": "ipython",
    "version": 3
   },
   "file_extension": ".py",
   "mimetype": "text/x-python",
   "name": "python",
   "nbconvert_exporter": "python",
   "pygments_lexer": "ipython3",
   "version": "3.10.5"
  },
  "vscode": {
   "interpreter": {
    "hash": "58837b1b657ea91009af8409fc244ae3b5ccf93ea980d6fb6b80adc5f697f4cc"
   }
  }
 },
 "nbformat": 4,
 "nbformat_minor": 2
}
